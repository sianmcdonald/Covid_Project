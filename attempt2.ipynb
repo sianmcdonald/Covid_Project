{
 "cells": [
  {
   "cell_type": "code",
   "execution_count": 27,
   "metadata": {
    "collapsed": true
   },
   "outputs": [],
   "source": [
    "import pandas as pd\n",
    "import matplotlib.pyplot as plt\n",
    "%matplotlib inline\n",
    "import seaborn as sns\n",
    "import numpy as np"
   ]
  },
  {
   "cell_type": "code",
   "execution_count": 2,
   "metadata": {
    "collapsed": true
   },
   "outputs": [],
   "source": [
    "covid = pd.read_csv(\"//GBMLVFILFS05N02/home0$/McDonaS/Data Academy/Covid Data/covid19.csv\")\n",
    "gdp = pd.read_csv(\"//GBMLVFILFS05N02/home0$/McDonaS/Data Academy/Covid Data/gdp.csv\")\n",
    "tourism = pd.read_csv(\"//GBMLVFILFS05N02/home0$/McDonaS/Data Academy/Covid Data/tourism.csv\")\n",
    "pop_65 = pd.read_csv(\"//GBMLVFILFS05N02/home0$/McDonaS/Data Academy/Covid Data/pop65.csv\")\n",
    "pop_desn = pd.read_csv(\"//GBMLVFILFS05N02/home0$/McDonaS/Data Academy/Covid Data/pop_desn.csv\")\n",
    "beds = pd.read_csv(\"//GBMLVFILFS05N02/home0$/McDonaS/Data Academy/Covid Data/beds_per_1000.csv\")"
   ]
  },
  {
   "cell_type": "code",
   "execution_count": 3,
   "metadata": {},
   "outputs": [
    {
     "data": {
      "text/html": [
       "<div>\n",
       "<style>\n",
       "    .dataframe thead tr:only-child th {\n",
       "        text-align: right;\n",
       "    }\n",
       "\n",
       "    .dataframe thead th {\n",
       "        text-align: left;\n",
       "    }\n",
       "\n",
       "    .dataframe tbody tr th {\n",
       "        vertical-align: top;\n",
       "    }\n",
       "</style>\n",
       "<table border=\"1\" class=\"dataframe\">\n",
       "  <thead>\n",
       "    <tr style=\"text-align: right;\">\n",
       "      <th></th>\n",
       "      <th>dateRep</th>\n",
       "      <th>day</th>\n",
       "      <th>month</th>\n",
       "      <th>year</th>\n",
       "      <th>cases</th>\n",
       "      <th>deaths</th>\n",
       "      <th>popData2018</th>\n",
       "      <th>country_code</th>\n",
       "      <th>country_name</th>\n",
       "    </tr>\n",
       "  </thead>\n",
       "  <tbody>\n",
       "    <tr>\n",
       "      <th>0</th>\n",
       "      <td>18/04/2020</td>\n",
       "      <td>18</td>\n",
       "      <td>4</td>\n",
       "      <td>2020</td>\n",
       "      <td>51</td>\n",
       "      <td>1</td>\n",
       "      <td>37172386.0</td>\n",
       "      <td>AFG</td>\n",
       "      <td>Afghanistan</td>\n",
       "    </tr>\n",
       "    <tr>\n",
       "      <th>1</th>\n",
       "      <td>17/04/2020</td>\n",
       "      <td>17</td>\n",
       "      <td>4</td>\n",
       "      <td>2020</td>\n",
       "      <td>10</td>\n",
       "      <td>4</td>\n",
       "      <td>37172386.0</td>\n",
       "      <td>AFG</td>\n",
       "      <td>Afghanistan</td>\n",
       "    </tr>\n",
       "    <tr>\n",
       "      <th>2</th>\n",
       "      <td>16/04/2020</td>\n",
       "      <td>16</td>\n",
       "      <td>4</td>\n",
       "      <td>2020</td>\n",
       "      <td>70</td>\n",
       "      <td>2</td>\n",
       "      <td>37172386.0</td>\n",
       "      <td>AFG</td>\n",
       "      <td>Afghanistan</td>\n",
       "    </tr>\n",
       "    <tr>\n",
       "      <th>3</th>\n",
       "      <td>15/04/2020</td>\n",
       "      <td>15</td>\n",
       "      <td>4</td>\n",
       "      <td>2020</td>\n",
       "      <td>49</td>\n",
       "      <td>2</td>\n",
       "      <td>37172386.0</td>\n",
       "      <td>AFG</td>\n",
       "      <td>Afghanistan</td>\n",
       "    </tr>\n",
       "    <tr>\n",
       "      <th>4</th>\n",
       "      <td>14/04/2020</td>\n",
       "      <td>14</td>\n",
       "      <td>4</td>\n",
       "      <td>2020</td>\n",
       "      <td>58</td>\n",
       "      <td>3</td>\n",
       "      <td>37172386.0</td>\n",
       "      <td>AFG</td>\n",
       "      <td>Afghanistan</td>\n",
       "    </tr>\n",
       "  </tbody>\n",
       "</table>\n",
       "</div>"
      ],
      "text/plain": [
       "      dateRep  day  month  year  cases  deaths  popData2018 country_code  \\\n",
       "0  18/04/2020   18      4  2020     51       1   37172386.0          AFG   \n",
       "1  17/04/2020   17      4  2020     10       4   37172386.0          AFG   \n",
       "2  16/04/2020   16      4  2020     70       2   37172386.0          AFG   \n",
       "3  15/04/2020   15      4  2020     49       2   37172386.0          AFG   \n",
       "4  14/04/2020   14      4  2020     58       3   37172386.0          AFG   \n",
       "\n",
       "  country_name  \n",
       "0  Afghanistan  \n",
       "1  Afghanistan  \n",
       "2  Afghanistan  \n",
       "3  Afghanistan  \n",
       "4  Afghanistan  "
      ]
     },
     "execution_count": 3,
     "metadata": {},
     "output_type": "execute_result"
    }
   ],
   "source": [
    "covid['country_code'] = covid['countryterritoryCode']\n",
    "covid['country_name'] = covid['countriesAndTerritories']\n",
    "covid2 = covid.drop([\"countryterritoryCode\",\"countriesAndTerritories\",\"geoId\"],axis = 1)\n",
    "covid2.head()"
   ]
  },
  {
   "cell_type": "code",
   "execution_count": 4,
   "metadata": {
    "collapsed": true
   },
   "outputs": [],
   "source": [
    "#Merging all the data together (left joins on country code and name for most as come from same source)\n",
    "merged_data = covid2.merge(tourism, on='country_code', how='left')\n",
    "merged_data.rename(columns={'country_name_y': 'country_name'}, inplace = True)\n",
    "merged_data = merged_data.merge(gdp, on=['country_code','country_name'], how='left')\n",
    "merged_data = merged_data.merge(pop_65, on=['country_code','country_name'], how = 'left')\n",
    "merged_data = merged_data.merge(pop_desn, on=['country_code','country_name'], how = 'left' )\n",
    "merged_data = merged_data.merge(beds, on=['country_code','country_name'], how = 'left')"
   ]
  },
  {
   "cell_type": "code",
   "execution_count": 5,
   "metadata": {},
   "outputs": [
    {
     "data": {
      "text/html": [
       "<div>\n",
       "<style>\n",
       "    .dataframe thead tr:only-child th {\n",
       "        text-align: right;\n",
       "    }\n",
       "\n",
       "    .dataframe thead th {\n",
       "        text-align: left;\n",
       "    }\n",
       "\n",
       "    .dataframe tbody tr th {\n",
       "        vertical-align: top;\n",
       "    }\n",
       "</style>\n",
       "<table border=\"1\" class=\"dataframe\">\n",
       "  <thead>\n",
       "    <tr style=\"text-align: right;\">\n",
       "      <th></th>\n",
       "      <th>dateRep</th>\n",
       "      <th>day</th>\n",
       "      <th>month</th>\n",
       "      <th>year</th>\n",
       "      <th>cases</th>\n",
       "      <th>deaths</th>\n",
       "      <th>popData2018</th>\n",
       "      <th>country_code</th>\n",
       "      <th>country_name_x</th>\n",
       "      <th>country_name</th>\n",
       "      <th>tourism_16_18</th>\n",
       "      <th>gdp_18_16</th>\n",
       "      <th>over_65_pop_18</th>\n",
       "      <th>pop_desn_16_18</th>\n",
       "      <th>beds_per_1000_11_15</th>\n",
       "    </tr>\n",
       "  </thead>\n",
       "  <tbody>\n",
       "    <tr>\n",
       "      <th>0</th>\n",
       "      <td>18/04/2020</td>\n",
       "      <td>18</td>\n",
       "      <td>4</td>\n",
       "      <td>2020</td>\n",
       "      <td>51</td>\n",
       "      <td>1</td>\n",
       "      <td>37172386.0</td>\n",
       "      <td>AFG</td>\n",
       "      <td>Afghanistan</td>\n",
       "      <td>Afghanistan</td>\n",
       "      <td>NaN</td>\n",
       "      <td>520.896603</td>\n",
       "      <td>960879.0</td>\n",
       "      <td>56.93776</td>\n",
       "      <td>0.5</td>\n",
       "    </tr>\n",
       "    <tr>\n",
       "      <th>1</th>\n",
       "      <td>17/04/2020</td>\n",
       "      <td>17</td>\n",
       "      <td>4</td>\n",
       "      <td>2020</td>\n",
       "      <td>10</td>\n",
       "      <td>4</td>\n",
       "      <td>37172386.0</td>\n",
       "      <td>AFG</td>\n",
       "      <td>Afghanistan</td>\n",
       "      <td>Afghanistan</td>\n",
       "      <td>NaN</td>\n",
       "      <td>520.896603</td>\n",
       "      <td>960879.0</td>\n",
       "      <td>56.93776</td>\n",
       "      <td>0.5</td>\n",
       "    </tr>\n",
       "    <tr>\n",
       "      <th>2</th>\n",
       "      <td>16/04/2020</td>\n",
       "      <td>16</td>\n",
       "      <td>4</td>\n",
       "      <td>2020</td>\n",
       "      <td>70</td>\n",
       "      <td>2</td>\n",
       "      <td>37172386.0</td>\n",
       "      <td>AFG</td>\n",
       "      <td>Afghanistan</td>\n",
       "      <td>Afghanistan</td>\n",
       "      <td>NaN</td>\n",
       "      <td>520.896603</td>\n",
       "      <td>960879.0</td>\n",
       "      <td>56.93776</td>\n",
       "      <td>0.5</td>\n",
       "    </tr>\n",
       "    <tr>\n",
       "      <th>3</th>\n",
       "      <td>15/04/2020</td>\n",
       "      <td>15</td>\n",
       "      <td>4</td>\n",
       "      <td>2020</td>\n",
       "      <td>49</td>\n",
       "      <td>2</td>\n",
       "      <td>37172386.0</td>\n",
       "      <td>AFG</td>\n",
       "      <td>Afghanistan</td>\n",
       "      <td>Afghanistan</td>\n",
       "      <td>NaN</td>\n",
       "      <td>520.896603</td>\n",
       "      <td>960879.0</td>\n",
       "      <td>56.93776</td>\n",
       "      <td>0.5</td>\n",
       "    </tr>\n",
       "    <tr>\n",
       "      <th>4</th>\n",
       "      <td>14/04/2020</td>\n",
       "      <td>14</td>\n",
       "      <td>4</td>\n",
       "      <td>2020</td>\n",
       "      <td>58</td>\n",
       "      <td>3</td>\n",
       "      <td>37172386.0</td>\n",
       "      <td>AFG</td>\n",
       "      <td>Afghanistan</td>\n",
       "      <td>Afghanistan</td>\n",
       "      <td>NaN</td>\n",
       "      <td>520.896603</td>\n",
       "      <td>960879.0</td>\n",
       "      <td>56.93776</td>\n",
       "      <td>0.5</td>\n",
       "    </tr>\n",
       "  </tbody>\n",
       "</table>\n",
       "</div>"
      ],
      "text/plain": [
       "      dateRep  day  month  year  cases  deaths  popData2018 country_code  \\\n",
       "0  18/04/2020   18      4  2020     51       1   37172386.0          AFG   \n",
       "1  17/04/2020   17      4  2020     10       4   37172386.0          AFG   \n",
       "2  16/04/2020   16      4  2020     70       2   37172386.0          AFG   \n",
       "3  15/04/2020   15      4  2020     49       2   37172386.0          AFG   \n",
       "4  14/04/2020   14      4  2020     58       3   37172386.0          AFG   \n",
       "\n",
       "  country_name_x country_name  tourism_16_18   gdp_18_16  over_65_pop_18  \\\n",
       "0    Afghanistan  Afghanistan            NaN  520.896603        960879.0   \n",
       "1    Afghanistan  Afghanistan            NaN  520.896603        960879.0   \n",
       "2    Afghanistan  Afghanistan            NaN  520.896603        960879.0   \n",
       "3    Afghanistan  Afghanistan            NaN  520.896603        960879.0   \n",
       "4    Afghanistan  Afghanistan            NaN  520.896603        960879.0   \n",
       "\n",
       "   pop_desn_16_18  beds_per_1000_11_15  \n",
       "0        56.93776                  0.5  \n",
       "1        56.93776                  0.5  \n",
       "2        56.93776                  0.5  \n",
       "3        56.93776                  0.5  \n",
       "4        56.93776                  0.5  "
      ]
     },
     "execution_count": 5,
     "metadata": {},
     "output_type": "execute_result"
    }
   ],
   "source": [
    "merged_data.head()"
   ]
  },
  {
   "cell_type": "code",
   "execution_count": 6,
   "metadata": {
    "collapsed": true
   },
   "outputs": [],
   "source": [
    "def plot_cases(df, country_code):\n",
    "    data = df[df['country_code'] == country_code]\n",
    "    data['dateRep'] = pd.to_datetime(data['dateRep'], dayfirst = True)\n",
    "    date = data['dateRep']\n",
    "    cases = data['cases']\n",
    "    deaths = data['deaths']\n",
    "    plt.plot(date, cases, '.', color = 'green')\n",
    "    plt.plot(date, deaths, '.', color = 'red')\n",
    "    plt.title(\"Number of Covid19 Cases and Deaths in \" + country_code)\n",
    "    plt.xticks(rotation=90)\n",
    "    plt.legend(['Cases', 'Deaths'])"
   ]
  },
  {
   "cell_type": "code",
   "execution_count": 7,
   "metadata": {
    "scrolled": false
   },
   "outputs": [
    {
     "name": "stderr",
     "output_type": "stream",
     "text": [
      "C:\\ProgramData\\App-V\\95FD7873-726E-40E9-B477-CC4010411846\\9727BF3A-F7F8-45A4-AD38-2F35B6E0FB2A\\Root\\lib\\site-packages\\ipykernel_launcher.py:3: SettingWithCopyWarning: \n",
      "A value is trying to be set on a copy of a slice from a DataFrame.\n",
      "Try using .loc[row_indexer,col_indexer] = value instead\n",
      "\n",
      "See the caveats in the documentation: http://pandas.pydata.org/pandas-docs/stable/indexing.html#indexing-view-versus-copy\n",
      "  This is separate from the ipykernel package so we can avoid doing imports until\n"
     ]
    },
    {
     "data": {
      "text/plain": [
       "<matplotlib.lines.Line2D at 0x7548908>"
      ]
     },
     "execution_count": 7,
     "metadata": {},
     "output_type": "execute_result"
    },
    {
     "data": {
      "image/png": "[encoded data removed]",
      "text/plain": [
       "<matplotlib.figure.Figure at 0xda41048>"
      ]
     },
     "metadata": {},
     "output_type": "display_data"
    }
   ],
   "source": [
    "plot_cases(merged_data, 'ITA')\n",
    "plt.axvline('2020-03-09')"
   ]
  },
  {
   "cell_type": "code",
   "execution_count": 8,
   "metadata": {
    "scrolled": true
   },
   "outputs": [
    {
     "name": "stderr",
     "output_type": "stream",
     "text": [
      "C:\\ProgramData\\App-V\\95FD7873-726E-40E9-B477-CC4010411846\\9727BF3A-F7F8-45A4-AD38-2F35B6E0FB2A\\Root\\lib\\site-packages\\ipykernel_launcher.py:3: SettingWithCopyWarning: \n",
      "A value is trying to be set on a copy of a slice from a DataFrame.\n",
      "Try using .loc[row_indexer,col_indexer] = value instead\n",
      "\n",
      "See the caveats in the documentation: http://pandas.pydata.org/pandas-docs/stable/indexing.html#indexing-view-versus-copy\n",
      "  This is separate from the ipykernel package so we can avoid doing imports until\n"
     ]
    },
    {
     "data": {
      "text/plain": [
       "<matplotlib.lines.Line2D at 0xdbcb9e8>"
      ]
     },
     "execution_count": 8,
     "metadata": {},
     "output_type": "execute_result"
    },
    {
     "data": {
      "image/png": "[encoded data removed]",
      "text/plain": [
       "<matplotlib.figure.Figure at 0xde828d0>"
      ]
     },
     "metadata": {},
     "output_type": "display_data"
    }
   ],
   "source": [
    "plot_cases(merged_data, 'GBR')\n",
    "plt.axvline('2020-03-23')"
   ]
  },
  {
   "cell_type": "code",
   "execution_count": 9,
   "metadata": {},
   "outputs": [
    {
     "name": "stderr",
     "output_type": "stream",
     "text": [
      "C:\\ProgramData\\App-V\\95FD7873-726E-40E9-B477-CC4010411846\\9727BF3A-F7F8-45A4-AD38-2F35B6E0FB2A\\Root\\lib\\site-packages\\ipykernel_launcher.py:3: SettingWithCopyWarning: \n",
      "A value is trying to be set on a copy of a slice from a DataFrame.\n",
      "Try using .loc[row_indexer,col_indexer] = value instead\n",
      "\n",
      "See the caveats in the documentation: http://pandas.pydata.org/pandas-docs/stable/indexing.html#indexing-view-versus-copy\n",
      "  This is separate from the ipykernel package so we can avoid doing imports until\n"
     ]
    },
    {
     "data": {
      "image/png": "[encoded data removed]",
      "text/plain": [
       "<matplotlib.figure.Figure at 0xdfb5c18>"
      ]
     },
     "metadata": {},
     "output_type": "display_data"
    }
   ],
   "source": [
    "plot_cases(merged_data, 'BRA')"
   ]
  },
  {
   "cell_type": "code",
   "execution_count": 10,
   "metadata": {},
   "outputs": [
    {
     "data": {
      "text/html": [
       "<div>\n",
       "<style>\n",
       "    .dataframe thead tr:only-child th {\n",
       "        text-align: right;\n",
       "    }\n",
       "\n",
       "    .dataframe thead th {\n",
       "        text-align: left;\n",
       "    }\n",
       "\n",
       "    .dataframe tbody tr th {\n",
       "        vertical-align: top;\n",
       "    }\n",
       "</style>\n",
       "<table border=\"1\" class=\"dataframe\">\n",
       "  <thead>\n",
       "    <tr style=\"text-align: right;\">\n",
       "      <th></th>\n",
       "      <th>country_code</th>\n",
       "      <th>country_name</th>\n",
       "      <th>tourism_16_18</th>\n",
       "      <th>gdp_18_16</th>\n",
       "      <th>over_65_pop_18</th>\n",
       "      <th>pop_desn_16_18</th>\n",
       "      <th>beds_per_1000_11_15</th>\n",
       "    </tr>\n",
       "    <tr>\n",
       "      <th>country_code</th>\n",
       "      <th></th>\n",
       "      <th></th>\n",
       "      <th></th>\n",
       "      <th></th>\n",
       "      <th></th>\n",
       "      <th></th>\n",
       "      <th></th>\n",
       "    </tr>\n",
       "  </thead>\n",
       "  <tbody>\n",
       "    <tr>\n",
       "      <th>ABW</th>\n",
       "      <td>ABW</td>\n",
       "      <td>Aruba</td>\n",
       "      <td>1082000.0</td>\n",
       "      <td>25630.266490</td>\n",
       "      <td>14343.0</td>\n",
       "      <td>588.027778</td>\n",
       "      <td>NaN</td>\n",
       "    </tr>\n",
       "    <tr>\n",
       "      <th>AFG</th>\n",
       "      <td>AFG</td>\n",
       "      <td>Afghanistan</td>\n",
       "      <td>NaN</td>\n",
       "      <td>520.896603</td>\n",
       "      <td>960879.0</td>\n",
       "      <td>56.937760</td>\n",
       "      <td>0.5</td>\n",
       "    </tr>\n",
       "    <tr>\n",
       "      <th>AGO</th>\n",
       "      <td>AGO</td>\n",
       "      <td>Angola</td>\n",
       "      <td>218000.0</td>\n",
       "      <td>3432.385736</td>\n",
       "      <td>682859.0</td>\n",
       "      <td>24.713052</td>\n",
       "      <td>NaN</td>\n",
       "    </tr>\n",
       "    <tr>\n",
       "      <th>ALB</th>\n",
       "      <td>ALB</td>\n",
       "      <td>Albania</td>\n",
       "      <td>5340000.0</td>\n",
       "      <td>5268.848504</td>\n",
       "      <td>393976.0</td>\n",
       "      <td>104.612263</td>\n",
       "      <td>2.9</td>\n",
       "    </tr>\n",
       "    <tr>\n",
       "      <th>AND</th>\n",
       "      <td>AND</td>\n",
       "      <td>Andorra</td>\n",
       "      <td>3042000.0</td>\n",
       "      <td>42029.762740</td>\n",
       "      <td>NaN</td>\n",
       "      <td>163.842553</td>\n",
       "      <td>NaN</td>\n",
       "    </tr>\n",
       "  </tbody>\n",
       "</table>\n",
       "</div>"
      ],
      "text/plain": [
       "             country_code country_name  tourism_16_18     gdp_18_16  \\\n",
       "country_code                                                          \n",
       "ABW                   ABW        Aruba      1082000.0  25630.266490   \n",
       "AFG                   AFG  Afghanistan            NaN    520.896603   \n",
       "AGO                   AGO       Angola       218000.0   3432.385736   \n",
       "ALB                   ALB      Albania      5340000.0   5268.848504   \n",
       "AND                   AND      Andorra      3042000.0  42029.762740   \n",
       "\n",
       "              over_65_pop_18  pop_desn_16_18  beds_per_1000_11_15  \n",
       "country_code                                                       \n",
       "ABW                  14343.0      588.027778                  NaN  \n",
       "AFG                 960879.0       56.937760                  0.5  \n",
       "AGO                 682859.0       24.713052                  NaN  \n",
       "ALB                 393976.0      104.612263                  2.9  \n",
       "AND                      NaN      163.842553                  NaN  "
      ]
     },
     "execution_count": 10,
     "metadata": {},
     "output_type": "execute_result"
    }
   ],
   "source": [
    "agg_data = pd.DataFrame(merged_data.groupby(['country_code'],sort=True)['country_code','country_name','tourism_16_18','gdp_18_16','over_65_pop_18','pop_desn_16_18','beds_per_1000_11_15'].max())\n",
    "agg_data.head()"
   ]
  },
  {
   "cell_type": "code",
   "execution_count": 13,
   "metadata": {},
   "outputs": [],
   "source": [
    "sum_cases = pd.DataFrame(merged_data.groupby(['country_code'])['cases'].sum())\n",
    "sum_deaths = pd.DataFrame(merged_data.groupby(['country_code'])['deaths'].sum())"
   ]
  },
  {
   "cell_type": "code",
   "execution_count": 14,
   "metadata": {
    "collapsed": true
   },
   "outputs": [],
   "source": [
    "#This does the join on the index which here is country code\n",
    "agg_data2 = agg_data.merge(sum_cases, left_index = True, right_index = True, how='left')\n",
    "agg_data2 = agg_data2.merge(sum_deaths, left_index = True, right_index = True, how='left')"
   ]
  },
  {
   "cell_type": "code",
   "execution_count": 15,
   "metadata": {
    "collapsed": true
   },
   "outputs": [],
   "source": [
    "#Rename the column names to be sum of cases and deaths\n",
    "agg_data2.rename(columns={'cases': 'sum_cases','deaths': 'sum_deaths'},inplace = True)"
   ]
  },
  {
   "cell_type": "code",
   "execution_count": 18,
   "metadata": {},
   "outputs": [
    {
     "data": {
      "text/plain": [
       "(202, 9)"
      ]
     },
     "execution_count": 18,
     "metadata": {},
     "output_type": "execute_result"
    }
   ],
   "source": [
    "agg_data2.shape"
   ]
  },
  {
   "cell_type": "code",
   "execution_count": 16,
   "metadata": {},
   "outputs": [
    {
     "data": {
      "text/html": [
       "<div>\n",
       "<style>\n",
       "    .dataframe thead tr:only-child th {\n",
       "        text-align: right;\n",
       "    }\n",
       "\n",
       "    .dataframe thead th {\n",
       "        text-align: left;\n",
       "    }\n",
       "\n",
       "    .dataframe tbody tr th {\n",
       "        vertical-align: top;\n",
       "    }\n",
       "</style>\n",
       "<table border=\"1\" class=\"dataframe\">\n",
       "  <thead>\n",
       "    <tr style=\"text-align: right;\">\n",
       "      <th></th>\n",
       "      <th>tourism_16_18</th>\n",
       "      <th>gdp_18_16</th>\n",
       "      <th>over_65_pop_18</th>\n",
       "      <th>pop_desn_16_18</th>\n",
       "      <th>beds_per_1000_11_15</th>\n",
       "      <th>sum_cases</th>\n",
       "      <th>sum_deaths</th>\n",
       "    </tr>\n",
       "  </thead>\n",
       "  <tbody>\n",
       "    <tr>\n",
       "      <th>count</th>\n",
       "      <td>1.780000e+02</td>\n",
       "      <td>187.000000</td>\n",
       "      <td>1.790000e+02</td>\n",
       "      <td>194.000000</td>\n",
       "      <td>142.000000</td>\n",
       "      <td>202.000000</td>\n",
       "      <td>202.000000</td>\n",
       "    </tr>\n",
       "    <tr>\n",
       "      <th>mean</th>\n",
       "      <td>7.651614e+06</td>\n",
       "      <td>18379.080990</td>\n",
       "      <td>3.718501e+06</td>\n",
       "      <td>333.482021</td>\n",
       "      <td>3.192254</td>\n",
       "      <td>10875.638614</td>\n",
       "      <td>757.836634</td>\n",
       "    </tr>\n",
       "    <tr>\n",
       "      <th>std</th>\n",
       "      <td>1.456192e+07</td>\n",
       "      <td>26798.699965</td>\n",
       "      <td>1.391202e+07</td>\n",
       "      <td>1514.541442</td>\n",
       "      <td>2.543357</td>\n",
       "      <td>54876.960190</td>\n",
       "      <td>3753.961137</td>\n",
       "    </tr>\n",
       "    <tr>\n",
       "      <th>min</th>\n",
       "      <td>1.400000e+04</td>\n",
       "      <td>271.752044</td>\n",
       "      <td>6.174000e+03</td>\n",
       "      <td>0.136497</td>\n",
       "      <td>0.300000</td>\n",
       "      <td>1.000000</td>\n",
       "      <td>0.000000</td>\n",
       "    </tr>\n",
       "    <tr>\n",
       "      <th>25%</th>\n",
       "      <td>4.510000e+05</td>\n",
       "      <td>2351.212688</td>\n",
       "      <td>1.441730e+05</td>\n",
       "      <td>37.370577</td>\n",
       "      <td>1.300000</td>\n",
       "      <td>52.750000</td>\n",
       "      <td>1.000000</td>\n",
       "    </tr>\n",
       "    <tr>\n",
       "      <th>50%</th>\n",
       "      <td>1.955000e+06</td>\n",
       "      <td>7246.731656</td>\n",
       "      <td>5.823960e+05</td>\n",
       "      <td>91.177915</td>\n",
       "      <td>2.650000</td>\n",
       "      <td>428.500000</td>\n",
       "      <td>7.500000</td>\n",
       "    </tr>\n",
       "    <tr>\n",
       "      <th>75%</th>\n",
       "      <td>8.084250e+06</td>\n",
       "      <td>23373.435025</td>\n",
       "      <td>2.080798e+06</td>\n",
       "      <td>218.004208</td>\n",
       "      <td>4.275000</td>\n",
       "      <td>2762.250000</td>\n",
       "      <td>74.250000</td>\n",
       "    </tr>\n",
       "    <tr>\n",
       "      <th>max</th>\n",
       "      <td>8.932200e+07</td>\n",
       "      <td>185741.280000</td>\n",
       "      <td>1.520984e+08</td>\n",
       "      <td>19196.000000</td>\n",
       "      <td>13.800000</td>\n",
       "      <td>702164.000000</td>\n",
       "      <td>37054.000000</td>\n",
       "    </tr>\n",
       "  </tbody>\n",
       "</table>\n",
       "</div>"
      ],
      "text/plain": [
       "       tourism_16_18      gdp_18_16  over_65_pop_18  pop_desn_16_18  \\\n",
       "count   1.780000e+02     187.000000    1.790000e+02      194.000000   \n",
       "mean    7.651614e+06   18379.080990    3.718501e+06      333.482021   \n",
       "std     1.456192e+07   26798.699965    1.391202e+07     1514.541442   \n",
       "min     1.400000e+04     271.752044    6.174000e+03        0.136497   \n",
       "25%     4.510000e+05    2351.212688    1.441730e+05       37.370577   \n",
       "50%     1.955000e+06    7246.731656    5.823960e+05       91.177915   \n",
       "75%     8.084250e+06   23373.435025    2.080798e+06      218.004208   \n",
       "max     8.932200e+07  185741.280000    1.520984e+08    19196.000000   \n",
       "\n",
       "       beds_per_1000_11_15      sum_cases    sum_deaths  \n",
       "count           142.000000     202.000000    202.000000  \n",
       "mean              3.192254   10875.638614    757.836634  \n",
       "std               2.543357   54876.960190   3753.961137  \n",
       "min               0.300000       1.000000      0.000000  \n",
       "25%               1.300000      52.750000      1.000000  \n",
       "50%               2.650000     428.500000      7.500000  \n",
       "75%               4.275000    2762.250000     74.250000  \n",
       "max              13.800000  702164.000000  37054.000000  "
      ]
     },
     "execution_count": 16,
     "metadata": {},
     "output_type": "execute_result"
    }
   ],
   "source": [
    "agg_data2.describe()"
   ]
  },
  {
   "cell_type": "code",
   "execution_count": 185,
   "metadata": {},
   "outputs": [
    {
     "data": {
      "text/html": [
       "<div>\n",
       "<style>\n",
       "    .dataframe thead tr:only-child th {\n",
       "        text-align: right;\n",
       "    }\n",
       "\n",
       "    .dataframe thead th {\n",
       "        text-align: left;\n",
       "    }\n",
       "\n",
       "    .dataframe tbody tr th {\n",
       "        vertical-align: top;\n",
       "    }\n",
       "</style>\n",
       "<table border=\"1\" class=\"dataframe\">\n",
       "  <thead>\n",
       "    <tr style=\"text-align: right;\">\n",
       "      <th></th>\n",
       "      <th>country_code</th>\n",
       "      <th>country_name</th>\n",
       "      <th>tourism_16_18</th>\n",
       "      <th>gdp_18_16</th>\n",
       "      <th>over_65_pop_18</th>\n",
       "      <th>pop_desn_16_18</th>\n",
       "      <th>beds_per_1000_11_15</th>\n",
       "      <th>sum_cases</th>\n",
       "      <th>sum_deaths</th>\n",
       "    </tr>\n",
       "    <tr>\n",
       "      <th>country_code</th>\n",
       "      <th></th>\n",
       "      <th></th>\n",
       "      <th></th>\n",
       "      <th></th>\n",
       "      <th></th>\n",
       "      <th></th>\n",
       "      <th></th>\n",
       "      <th></th>\n",
       "      <th></th>\n",
       "    </tr>\n",
       "  </thead>\n",
       "  <tbody>\n",
       "    <tr>\n",
       "      <th>ABW</th>\n",
       "      <td>ABW</td>\n",
       "      <td>Aruba</td>\n",
       "      <td>1082000.0</td>\n",
       "      <td>25630.266490</td>\n",
       "      <td>14343.0</td>\n",
       "      <td>588.027778</td>\n",
       "      <td>NaN</td>\n",
       "      <td>96</td>\n",
       "      <td>2</td>\n",
       "    </tr>\n",
       "    <tr>\n",
       "      <th>AFG</th>\n",
       "      <td>AFG</td>\n",
       "      <td>Afghanistan</td>\n",
       "      <td>NaN</td>\n",
       "      <td>520.896603</td>\n",
       "      <td>960879.0</td>\n",
       "      <td>56.937760</td>\n",
       "      <td>0.5</td>\n",
       "      <td>845</td>\n",
       "      <td>30</td>\n",
       "    </tr>\n",
       "    <tr>\n",
       "      <th>AGO</th>\n",
       "      <td>AGO</td>\n",
       "      <td>Angola</td>\n",
       "      <td>218000.0</td>\n",
       "      <td>3432.385736</td>\n",
       "      <td>682859.0</td>\n",
       "      <td>24.713052</td>\n",
       "      <td>NaN</td>\n",
       "      <td>19</td>\n",
       "      <td>2</td>\n",
       "    </tr>\n",
       "    <tr>\n",
       "      <th>ALB</th>\n",
       "      <td>ALB</td>\n",
       "      <td>Albania</td>\n",
       "      <td>5340000.0</td>\n",
       "      <td>5268.848504</td>\n",
       "      <td>393976.0</td>\n",
       "      <td>104.612263</td>\n",
       "      <td>2.9</td>\n",
       "      <td>539</td>\n",
       "      <td>26</td>\n",
       "    </tr>\n",
       "    <tr>\n",
       "      <th>AND</th>\n",
       "      <td>AND</td>\n",
       "      <td>Andorra</td>\n",
       "      <td>3042000.0</td>\n",
       "      <td>42029.762740</td>\n",
       "      <td>NaN</td>\n",
       "      <td>163.842553</td>\n",
       "      <td>NaN</td>\n",
       "      <td>696</td>\n",
       "      <td>35</td>\n",
       "    </tr>\n",
       "  </tbody>\n",
       "</table>\n",
       "</div>"
      ],
      "text/plain": [
       "             country_code country_name  tourism_16_18     gdp_18_16  \\\n",
       "country_code                                                          \n",
       "ABW                   ABW        Aruba      1082000.0  25630.266490   \n",
       "AFG                   AFG  Afghanistan            NaN    520.896603   \n",
       "AGO                   AGO       Angola       218000.0   3432.385736   \n",
       "ALB                   ALB      Albania      5340000.0   5268.848504   \n",
       "AND                   AND      Andorra      3042000.0  42029.762740   \n",
       "\n",
       "              over_65_pop_18  pop_desn_16_18  beds_per_1000_11_15  sum_cases  \\\n",
       "country_code                                                                   \n",
       "ABW                  14343.0      588.027778                  NaN         96   \n",
       "AFG                 960879.0       56.937760                  0.5        845   \n",
       "AGO                 682859.0       24.713052                  NaN         19   \n",
       "ALB                 393976.0      104.612263                  2.9        539   \n",
       "AND                      NaN      163.842553                  NaN        696   \n",
       "\n",
       "              sum_deaths  \n",
       "country_code              \n",
       "ABW                    2  \n",
       "AFG                   30  \n",
       "AGO                    2  \n",
       "ALB                   26  \n",
       "AND                   35  "
      ]
     },
     "execution_count": 185,
     "metadata": {},
     "output_type": "execute_result"
    }
   ],
   "source": [
    "agg_data2.head()"
   ]
  },
  {
   "cell_type": "code",
   "execution_count": 186,
   "metadata": {},
   "outputs": [
    {
     "data": {
      "text/html": [
       "<div>\n",
       "<style>\n",
       "    .dataframe thead tr:only-child th {\n",
       "        text-align: right;\n",
       "    }\n",
       "\n",
       "    .dataframe thead th {\n",
       "        text-align: left;\n",
       "    }\n",
       "\n",
       "    .dataframe tbody tr th {\n",
       "        vertical-align: top;\n",
       "    }\n",
       "</style>\n",
       "<table border=\"1\" class=\"dataframe\">\n",
       "  <thead>\n",
       "    <tr style=\"text-align: right;\">\n",
       "      <th></th>\n",
       "      <th>tourism_16_18</th>\n",
       "      <th>gdp_18_16</th>\n",
       "      <th>over_65_pop_18</th>\n",
       "      <th>pop_desn_16_18</th>\n",
       "      <th>beds_per_1000_11_15</th>\n",
       "      <th>sum_cases</th>\n",
       "      <th>sum_deaths</th>\n",
       "    </tr>\n",
       "  </thead>\n",
       "  <tbody>\n",
       "    <tr>\n",
       "      <th>tourism_16_18</th>\n",
       "      <td>1.000000</td>\n",
       "      <td>0.172501</td>\n",
       "      <td>0.515987</td>\n",
       "      <td>-0.031035</td>\n",
       "      <td>0.212634</td>\n",
       "      <td>0.670642</td>\n",
       "      <td>0.766002</td>\n",
       "    </tr>\n",
       "    <tr>\n",
       "      <th>gdp_18_16</th>\n",
       "      <td>0.172501</td>\n",
       "      <td>1.000000</td>\n",
       "      <td>0.046728</td>\n",
       "      <td>0.478793</td>\n",
       "      <td>0.413970</td>\n",
       "      <td>0.176777</td>\n",
       "      <td>0.178550</td>\n",
       "    </tr>\n",
       "    <tr>\n",
       "      <th>over_65_pop_18</th>\n",
       "      <td>0.515987</td>\n",
       "      <td>0.046728</td>\n",
       "      <td>1.000000</td>\n",
       "      <td>-0.003348</td>\n",
       "      <td>0.104485</td>\n",
       "      <td>0.384090</td>\n",
       "      <td>0.329200</td>\n",
       "    </tr>\n",
       "    <tr>\n",
       "      <th>pop_desn_16_18</th>\n",
       "      <td>-0.031035</td>\n",
       "      <td>0.478793</td>\n",
       "      <td>-0.003348</td>\n",
       "      <td>1.000000</td>\n",
       "      <td>0.317377</td>\n",
       "      <td>-0.025614</td>\n",
       "      <td>-0.025963</td>\n",
       "    </tr>\n",
       "    <tr>\n",
       "      <th>beds_per_1000_11_15</th>\n",
       "      <td>0.212634</td>\n",
       "      <td>0.413970</td>\n",
       "      <td>0.104485</td>\n",
       "      <td>0.317377</td>\n",
       "      <td>1.000000</td>\n",
       "      <td>0.052502</td>\n",
       "      <td>0.050636</td>\n",
       "    </tr>\n",
       "    <tr>\n",
       "      <th>sum_cases</th>\n",
       "      <td>0.670642</td>\n",
       "      <td>0.176777</td>\n",
       "      <td>0.384090</td>\n",
       "      <td>-0.025614</td>\n",
       "      <td>0.052502</td>\n",
       "      <td>1.000000</td>\n",
       "      <td>0.907816</td>\n",
       "    </tr>\n",
       "    <tr>\n",
       "      <th>sum_deaths</th>\n",
       "      <td>0.766002</td>\n",
       "      <td>0.178550</td>\n",
       "      <td>0.329200</td>\n",
       "      <td>-0.025963</td>\n",
       "      <td>0.050636</td>\n",
       "      <td>0.907816</td>\n",
       "      <td>1.000000</td>\n",
       "    </tr>\n",
       "  </tbody>\n",
       "</table>\n",
       "</div>"
      ],
      "text/plain": [
       "                     tourism_16_18  gdp_18_16  over_65_pop_18  pop_desn_16_18  \\\n",
       "tourism_16_18             1.000000   0.172501        0.515987       -0.031035   \n",
       "gdp_18_16                 0.172501   1.000000        0.046728        0.478793   \n",
       "over_65_pop_18            0.515987   0.046728        1.000000       -0.003348   \n",
       "pop_desn_16_18           -0.031035   0.478793       -0.003348        1.000000   \n",
       "beds_per_1000_11_15       0.212634   0.413970        0.104485        0.317377   \n",
       "sum_cases                 0.670642   0.176777        0.384090       -0.025614   \n",
       "sum_deaths                0.766002   0.178550        0.329200       -0.025963   \n",
       "\n",
       "                     beds_per_1000_11_15  sum_cases  sum_deaths  \n",
       "tourism_16_18                   0.212634   0.670642    0.766002  \n",
       "gdp_18_16                       0.413970   0.176777    0.178550  \n",
       "over_65_pop_18                  0.104485   0.384090    0.329200  \n",
       "pop_desn_16_18                  0.317377  -0.025614   -0.025963  \n",
       "beds_per_1000_11_15             1.000000   0.052502    0.050636  \n",
       "sum_cases                       0.052502   1.000000    0.907816  \n",
       "sum_deaths                      0.050636   0.907816    1.000000  "
      ]
     },
     "execution_count": 186,
     "metadata": {},
     "output_type": "execute_result"
    }
   ],
   "source": [
    "agg_data2.corr()"
   ]
  },
  {
   "cell_type": "code",
   "execution_count": 189,
   "metadata": {},
   "outputs": [
    {
     "ename": "AttributeError",
     "evalue": "module 'seaborn' has no attribute 'heatmap'",
     "output_type": "error",
     "traceback": [
      "\u001b[1;31m---------------------------------------------------------------------------\u001b[0m",
      "\u001b[1;31mAttributeError\u001b[0m                            Traceback (most recent call last)",
      "\u001b[1;32m<ipython-input-189-53857fe88070>\u001b[0m in \u001b[0;36m<module>\u001b[1;34m()\u001b[0m\n\u001b[0;32m      1\u001b[0m \u001b[0mVar_Corr\u001b[0m \u001b[1;33m=\u001b[0m \u001b[0magg_data2\u001b[0m\u001b[1;33m.\u001b[0m\u001b[0mcorr\u001b[0m\u001b[1;33m(\u001b[0m\u001b[1;33m)\u001b[0m\u001b[1;33m\u001b[0m\u001b[0m\n\u001b[0;32m      2\u001b[0m \u001b[1;31m# plot the heatmap and annotation on it\u001b[0m\u001b[1;33m\u001b[0m\u001b[1;33m\u001b[0m\u001b[0m\n\u001b[1;32m----> 3\u001b[1;33m \u001b[0msns\u001b[0m\u001b[1;33m.\u001b[0m\u001b[0mheatmap\u001b[0m\u001b[1;33m(\u001b[0m\u001b[0mVar_Corr\u001b[0m\u001b[1;33m,\u001b[0m \u001b[0mxticklabels\u001b[0m\u001b[1;33m=\u001b[0m\u001b[0mVar_Corr\u001b[0m\u001b[1;33m.\u001b[0m\u001b[0mcolumns\u001b[0m\u001b[1;33m,\u001b[0m \u001b[0myticklabels\u001b[0m\u001b[1;33m=\u001b[0m\u001b[0mVar_Corr\u001b[0m\u001b[1;33m.\u001b[0m\u001b[0mcolumns\u001b[0m\u001b[1;33m,\u001b[0m \u001b[0mannot\u001b[0m\u001b[1;33m=\u001b[0m\u001b[1;32mTrue\u001b[0m\u001b[1;33m)\u001b[0m\u001b[1;33m\u001b[0m\u001b[0m\n\u001b[0m",
      "\u001b[1;31mAttributeError\u001b[0m: module 'seaborn' has no attribute 'heatmap'"
     ]
    }
   ],
   "source": [
    "Var_Corr = agg_data2.corr()\n",
    "# plot the heatmap and annotation on it\n",
    "sns.heatmap(Var_Corr, xticklabels=Var_Corr.columns, yticklabels=Var_Corr.columns, annot=True)"
   ]
  },
  {
   "cell_type": "code",
   "execution_count": 188,
   "metadata": {
    "collapsed": true
   },
   "outputs": [],
   "source": [
    "import seaborn as sns"
   ]
  },
  {
   "cell_type": "markdown",
   "metadata": {},
   "source": [
    "# Questions\n",
    "1. How to get sns working properly\n",
    "2. Plot tourism against cases\n",
    "3. Decide on which questions we are asking and answering\n",
    "4. try and make a graph of all countries on 1 graph\n",
    "5. Can we fit a model to Italy\n",
    "6. Can we use this to predict cases in the UK?"
   ]
  },
  {
   "cell_type": "code",
   "execution_count": 22,
   "metadata": {
    "collapsed": true
   },
   "outputs": [
    {
     "data": {
      "text/plain": [
       "country_code\n",
       "ABW        96\n",
       "AFG       845\n",
       "AGO        19\n",
       "ALB       539\n",
       "AND       696\n",
       "ARE      5825\n",
       "ARG      2658\n",
       "ARM      1248\n",
       "ATG        23\n",
       "AUS      6533\n",
       "AUT     14603\n",
       "AZE      1340\n",
       "BDI         6\n",
       "BEL     36138\n",
       "BEN        37\n",
       "BFA       557\n",
       "BGD      1838\n",
       "BGR       846\n",
       "BHR      1744\n",
       "BHS        55\n",
       "BIH      1210\n",
       "BLR      4779\n",
       "BLZ        18\n",
       "BMU        83\n",
       "BOL       493\n",
       "BRA     33682\n",
       "BRB        75\n",
       "BRN       136\n",
       "BTN         5\n",
       "BWA        15\n",
       "        ...  \n",
       "SWZ        19\n",
       "SXM        57\n",
       "SYC        11\n",
       "SYR        38\n",
       "TCA        11\n",
       "TCD        33\n",
       "TGO        83\n",
       "THA      2700\n",
       "TLS        18\n",
       "TTO       114\n",
       "TUN       864\n",
       "TUR     78546\n",
       "TWN       395\n",
       "TZA       147\n",
       "UGA        55\n",
       "UKR      5106\n",
       "URY       570\n",
       "USA    702164\n",
       "UZB      1450\n",
       "VAT         8\n",
       "VCT        12\n",
       "VEN       227\n",
       "VGB         3\n",
       "VIR        51\n",
       "VNM       276\n",
       "XKX       480\n",
       "YEM         1\n",
       "ZAF      2783\n",
       "ZMB        52\n",
       "ZWE        24\n",
       "Name: sum_cases, Length: 202, dtype: int64"
      ]
     },
     "execution_count": 22,
     "metadata": {},
     "output_type": "execute_result"
    }
   ],
   "source": [
    "agg_data2['tourism_16_18'].fillna(0)\n",
    "agg_data2['sum_cases']"
   ]
  },
  {
   "cell_type": "code",
   "execution_count": 33,
   "metadata": {
    "scrolled": true
   },
   "outputs": [
    {
     "data": {
      "image/png": "[encoded data removed]",
      "text/plain": [
       "<matplotlib.figure.Figure at 0xfd53518>"
      ]
     },
     "metadata": {},
     "output_type": "display_data"
    }
   ],
   "source": [
    "x = agg_data2['tourism_16_18'].fillna(0)\n",
    "y = agg_data2['sum_cases']\n",
    "plt.plot(np.log(x +1),np.log(y+1),'.')\n",
    "plt.xlabel(\"Log tourism values\")\n",
    "plt.ylabel(\"Log sum of total cases\");\n",
    "#plt.boxplot(y)"
   ]
  },
  {
   "cell_type": "code",
   "execution_count": 35,
   "metadata": {
    "collapsed": true
   },
   "outputs": [],
   "source": [
    "agg_data3 = agg_data2.dropna(subset=['tourism_16_18'])"
   ]
  },
  {
   "cell_type": "code",
   "execution_count": 39,
   "metadata": {},
   "outputs": [
    {
     "data": {
      "image/png": "[encoded data removed]",
      "text/plain": [
       "<matplotlib.figure.Figure at 0xffbf2e8>"
      ]
     },
     "metadata": {},
     "output_type": "display_data"
    }
   ],
   "source": [
    "x = agg_data3['tourism_16_18']\n",
    "y = agg_data3['sum_cases']\n",
    "plt.plot(np.log(x +1),np.log(y+1),'.')\n",
    "plt.xlabel(\"Log tourism values\")\n",
    "plt.ylabel(\"Log sum of total cases\");\n",
    "#plt.boxplot(y)"
   ]
  },
  {
   "cell_type": "markdown",
   "metadata": {
    "collapsed": true
   },
   "source": [
    "Removing null values, and logging both variables we see a strong positive corralation between tourism numbers and the total cases a coutnry has. This tourism number is ....\n",
    "This is expected as the most visitors a country has the most likely they will be to aide the spread of the virus"
   ]
  },
  {
   "cell_type": "code",
   "execution_count": 37,
   "metadata": {},
   "outputs": [
    {
     "data": {
      "text/plain": [
       "'0.8.0'"
      ]
     },
     "execution_count": 37,
     "metadata": {},
     "output_type": "execute_result"
    }
   ],
   "source": [
    "import seaborn as sns\n",
    "sns.__version__"
   ]
  },
  {
   "cell_type": "code",
   "execution_count": null,
   "metadata": {
    "collapsed": true
   },
   "outputs": [],
   "source": []
  },
  {
   "cell_type": "code",
   "execution_count": null,
   "metadata": {
    "collapsed": true
   },
   "outputs": [],
   "source": []
  }
 ],
 "metadata": {
  "kernelspec": {
   "display_name": "Python 3",
   "language": "python",
   "name": "python3"
  },
  "language_info": {
   "codemirror_mode": {
    "name": "ipython",
    "version": 3
   },
   "file_extension": ".py",
   "mimetype": "text/x-python",
   "name": "python",
   "nbconvert_exporter": "python",
   "pygments_lexer": "ipython3",
   "version": "3.6.3"
  }
 },
 "nbformat": 4,
 "nbformat_minor": 2
}
